{
 "cells": [
  {
   "cell_type": "markdown",
   "id": "e1a53753",
   "metadata": {},
   "source": [
    "# List Statistics Generator"
   ]
  },
  {
   "cell_type": "code",
   "execution_count": 19,
   "id": "4e3faafb",
   "metadata": {},
   "outputs": [
    {
     "name": "stdout",
     "output_type": "stream",
     "text": [
      "Enter a given list of numbers: 1,2,3,4,5,6\n",
      "The mean = 3.5\n",
      "The median = 3.5\n",
      "The ranges= 5\n"
     ]
    }
   ],
   "source": [
    "numbers = (input(\"Enter a given list of number: \"))\n",
    "list_of_numbers = numbers.split(\",\")\n",
    "my_list = list(map(int, list_of_numbers))\n",
    "n = sorted(my_list)\n",
    "mean_value = float(sum(my_list)/len(my_list))\n",
    "med = len(n)//2\n",
    "median_value = (n[med] + n[~med]) / 2\n",
    "range_of_number = int(max(my_list))-int(min(my_list))\n",
    "print(f\"The mean = {mean_value}\\nThe median = {median_value}\\nThe range= {range_of_number}\")"
   ]
  },
  {
   "cell_type": "code",
   "execution_count": null,
   "id": "a3111d2d",
   "metadata": {},
   "outputs": [],
   "source": []
  }
 ],
 "metadata": {
  "kernelspec": {
   "display_name": "Python 3 (ipykernel)",
   "language": "python",
   "name": "python3"
  },
  "language_info": {
   "codemirror_mode": {
    "name": "ipython",
    "version": 3
   },
   "file_extension": ".py",
   "mimetype": "text/x-python",
   "name": "python",
   "nbconvert_exporter": "python",
   "pygments_lexer": "ipython3",
   "version": "3.11.5"
  }
 },
 "nbformat": 4,
 "nbformat_minor": 5
}
